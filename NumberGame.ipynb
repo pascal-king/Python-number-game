{
 "cells": [
  {
   "cell_type": "code",
   "execution_count": null,
   "id": "fc333b4e",
   "metadata": {},
   "outputs": [],
   "source": [
    "import random\n",
    "\n",
    "# Data structures for levels\n",
    "levels = {\n",
    "    1: {\"min\": 1, \"max\": 10, \"attempts\": 10, \"threshold\": 2, \"ages\": \"3-6\"},\n",
    "    2: {\"min\": 1, \"max\": 50, \"attempts\": 8, \"threshold\": 10, \"ages\": \"7-12\"},\n",
    "    3: {\"min\": 1, \"max\": 100, \"attempts\": 7, \"threshold\": 20, \"ages\": \"13-20\"}\n",
    "}\n",
    "\n",
    "# Age check\n",
    "age_input = input(\"Enter your age: \")\n",
    "try:\n",
    "    age = int(age_input)\n",
    "    if age < 3 or age > 20:\n",
    "        print(\"Sorry, this game is for players between 3 and 20 years old.\")\n",
    "    else:\n",
    "        # Determine level based on age\n",
    "        if 3 <= age <= 6:\n",
    "            level = 1\n",
    "        elif 7 <= age <= 12:\n",
    "            level = 2\n",
    "        else:\n",
    "            level = 3\n",
    "        \n",
    "        config = levels[level]\n",
    "        min_num = config[\"min\"]\n",
    "        max_num = config[\"max\"]\n",
    "        max_attempts = config[\"attempts\"]\n",
    "        way_off_threshold = config[\"threshold\"]\n",
    "        \n",
    "        print(f\"Welcome to Guess the Number! Level {level} for ages {config['ages']}\")\n",
    "        print(f\"Guess a number between {min_num} and {max_num}. You have {max_attempts} attempts.\")\n",
    "        \n",
    "        # Generate secret number\n",
    "        secret_number = random.randint(min_num, max_num)\n",
    "        attempts_left = max_attempts\n",
    "        score = 100\n",
    "        \n",
    "        # Game loop\n",
    "        while attempts_left > 0:\n",
    "            guess_input = input(\"Your guess: \")\n",
    "            try:\n",
    "                guess = int(guess_input)\n",
    "                if guess < min_num or guess > max_num:\n",
    "                    print(f\"Please guess between {min_num} and {max_num}.\")\n",
    "                    continue\n",
    "                \n",
    "                attempts_left -= 1\n",
    "                \n",
    "                if guess == secret_number:\n",
    "                    print(\"Correct! You win!\")\n",
    "                    print(f\"Your final score: {score}\")\n",
    "                    break\n",
    "                else:\n",
    "                    score -= 10\n",
    "                    if score < 0:\n",
    "                        score = 0\n",
    "                    \n",
    "                    diff = abs(guess - secret_number)\n",
    "                    if guess < secret_number:\n",
    "                        direction = \"low\"\n",
    "                    else:\n",
    "                        direction = \"high\"\n",
    "                    \n",
    "                    if diff > way_off_threshold:\n",
    "                        print(f\"Way off! Too {direction}.\")\n",
    "                    else:\n",
    "                        print(f\"Too {direction}.\")\n",
    "                    \n",
    "                    print(f\"Attempts left: {attempts_left}\")\n",
    "                    print(f\"Current score: {score}\")\n",
    "            \n",
    "            except ValueError:\n",
    "                print(\"Please enter a valid number.\")\n",
    "        \n",
    "        if attempts_left == 0:\n",
    "            print(f\"Game over. The secret number was {secret_number}.\")\n",
    "            print(f\"Your final score: {score}\")\n",
    "\n",
    "except ValueError:\n",
    "    print(\"Please enter a valid age.\")"
   ]
  },
  {
   "cell_type": "code",
   "execution_count": 4,
   "id": "42377c1b-3cb6-4f6a-b08e-1fc9812006eb",
   "metadata": {},
   "outputs": [
    {
     "name": "stdout",
     "output_type": "stream",
     "text": [
      "<bound method Random.randint of <random.Random object at 0x000002B6EEBAEC10>>\n"
     ]
    }
   ],
   "source": [
    "import random\n",
    "print(random.randint)\n"
   ]
  },
  {
   "cell_type": "code",
   "execution_count": 5,
   "id": "9e8f93d8-7b83-4494-9b44-440575c11084",
   "metadata": {},
   "outputs": [
    {
     "name": "stdout",
     "output_type": "stream",
     "text": [
      "Random RGB color: (99, 115, 114)\n"
     ]
    }
   ],
   "source": [
    "import random\n",
    "\n",
    "r = random.randint(0, 255)\n",
    "g = random.randint(0, 255)\n",
    "b = random.randint(0, 255)\n",
    "print(\"Random RGB color:\", (r, g, b))"
   ]
  },
  {
   "cell_type": "code",
   "execution_count": null,
   "id": "94700141-d492-4cb7-ac59-1172b01d3cd6",
   "metadata": {},
   "outputs": [],
   "source": []
  }
 ],
 "metadata": {
  "kernelspec": {
   "display_name": "Python 3 (ipykernel)",
   "language": "python",
   "name": "python3"
  },
  "language_info": {
   "codemirror_mode": {
    "name": "ipython",
    "version": 3
   },
   "file_extension": ".py",
   "mimetype": "text/x-python",
   "name": "python",
   "nbconvert_exporter": "python",
   "pygments_lexer": "ipython3",
   "version": "3.12.7"
  }
 },
 "nbformat": 4,
 "nbformat_minor": 5
}
